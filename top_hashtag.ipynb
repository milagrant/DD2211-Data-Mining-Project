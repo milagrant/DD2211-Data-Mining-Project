{
 "cells": [
  {
   "cell_type": "code",
   "execution_count": 206,
   "metadata": {},
   "outputs": [],
   "source": [
    "import pandas as pd\n",
    "import os\n",
    "import glob\n",
    "import re"
   ]
  },
  {
   "cell_type": "code",
   "execution_count": 93,
   "metadata": {},
   "outputs": [],
   "source": [
    "curr_path = os.path.dirname(os.path.realpath('__file__'))"
   ]
  },
  {
   "cell_type": "code",
   "execution_count": 131,
   "metadata": {},
   "outputs": [],
   "source": [
    "ego_nodes = [int(x.split(\"/twitter\\\\\")[-1].split('.')[0]) for x in glob.glob(\"%s/dataset/twitter/*.featnames\" % (curr_path,))]"
   ]
  },
  {
   "cell_type": "code",
   "execution_count": 189,
   "metadata": {},
   "outputs": [],
   "source": [
    "node_list = []\n",
    "df_hashtag = pd.DataFrame()\n",
    "for ego_node in ego_nodes:\n",
    "    #print(ego_node)\n",
    "    feat_names_file = open(curr_path+'/dataset/twitter/%d.featnames' % (ego_node), 'r', encoding='utf8')\n",
    "    hashtag = []\n",
    "    for line in feat_names_file:\n",
    "        split = line.split(\" \")\n",
    "        feat_name = split[1].rstrip()\n",
    "        if '#' in feat_name:\n",
    "            hashtag.append(feat_name)\n",
    "    feat_names_file.close()\n",
    "    \n",
    "    df_hashtag_temp = pd.DataFrame(hashtag, columns=['hashtag'])\n",
    "    list_hashtag = []\n",
    "    \n",
    "    ego_feat = open(curr_path+'/dataset/twitter/%d.egofeat' % (ego_node), 'r')\n",
    "    for line in ego_feat:\n",
    "        line = line.rstrip()\n",
    "        split = [int(x) for x in line.split(' ')]\n",
    "        features = split[0:len(hashtag)]\n",
    "        list_hashtag.append(features)\n",
    "    ego_feat.close()\n",
    "    \n",
    "    features_file = open(curr_path+'/dataset/twitter/%d.feat' % (ego_node), 'r')\n",
    "    for line in features_file:\n",
    "        line = line.rstrip()\n",
    "        split = [int(x) for x in line.split(' ')]\n",
    "        node_id = split[0]\n",
    "        if node_id not in node_list:\n",
    "            node_list.append(node_id)\n",
    "            features = split[1:len(hashtag)+1]\n",
    "            list_hashtag.append(features)\n",
    "    features_file.close()\n",
    "    \n",
    "    list_hashtag = list(map(list, zip(*list_hashtag)))\n",
    "    sum_hashtag = [sum(i) for i in list_hashtag]\n",
    "    df_hashtag_temp['count'] = sum_hashtag\n",
    "    \n",
    "    df_hashtag = df_hashtag.append(df_hashtag_temp, ignore_index=True)"
   ]
  },
  {
   "cell_type": "code",
   "execution_count": 224,
   "metadata": {},
   "outputs": [],
   "source": [
    "df_final = df_hashtag.copy()"
   ]
  },
  {
   "cell_type": "code",
   "execution_count": 225,
   "metadata": {},
   "outputs": [],
   "source": [
    "df_final = df_hashtag.copy()\n",
    "df_final['hashtag'] = df_final['hashtag'].str.lower()\n",
    "df_final['hashtag'] = df_final['hashtag'].map(lambda x: re.sub(r'\\W+', '', x))\n",
    "df_final = df_final[df_final['hashtag']!='']"
   ]
  },
  {
   "cell_type": "code",
   "execution_count": 233,
   "metadata": {},
   "outputs": [
    {
     "data": {
      "text/html": [
       "<div>\n",
       "<style scoped>\n",
       "    .dataframe tbody tr th:only-of-type {\n",
       "        vertical-align: middle;\n",
       "    }\n",
       "\n",
       "    .dataframe tbody tr th {\n",
       "        vertical-align: top;\n",
       "    }\n",
       "\n",
       "    .dataframe thead th {\n",
       "        text-align: right;\n",
       "    }\n",
       "</style>\n",
       "<table border=\"1\" class=\"dataframe\">\n",
       "  <thead>\n",
       "    <tr style=\"text-align: right;\">\n",
       "      <th></th>\n",
       "      <th>hashtag</th>\n",
       "      <th>count</th>\n",
       "    </tr>\n",
       "  </thead>\n",
       "  <tbody>\n",
       "    <tr>\n",
       "      <th>0</th>\n",
       "      <td>ff</td>\n",
       "      <td>10047.0</td>\n",
       "    </tr>\n",
       "    <tr>\n",
       "      <th>1</th>\n",
       "      <td>fb</td>\n",
       "      <td>2147.0</td>\n",
       "    </tr>\n",
       "    <tr>\n",
       "      <th>2</th>\n",
       "      <td>sxsw</td>\n",
       "      <td>1201.0</td>\n",
       "    </tr>\n",
       "    <tr>\n",
       "      <th>3</th>\n",
       "      <td>blackops2</td>\n",
       "      <td>1024.0</td>\n",
       "    </tr>\n",
       "    <tr>\n",
       "      <th>4</th>\n",
       "      <td>mw3</td>\n",
       "      <td>1003.0</td>\n",
       "    </tr>\n",
       "    <tr>\n",
       "      <th>5</th>\n",
       "      <td>nowplaying</td>\n",
       "      <td>980.0</td>\n",
       "    </tr>\n",
       "    <tr>\n",
       "      <th>6</th>\n",
       "      <td>np</td>\n",
       "      <td>909.0</td>\n",
       "    </tr>\n",
       "    <tr>\n",
       "      <th>7</th>\n",
       "      <td>earthday</td>\n",
       "      <td>880.0</td>\n",
       "    </tr>\n",
       "    <tr>\n",
       "      <th>8</th>\n",
       "      <td>fail</td>\n",
       "      <td>855.0</td>\n",
       "    </tr>\n",
       "    <tr>\n",
       "      <th>9</th>\n",
       "      <td>ows</td>\n",
       "      <td>817.0</td>\n",
       "    </tr>\n",
       "  </tbody>\n",
       "</table>\n",
       "</div>"
      ],
      "text/plain": [
       "      hashtag    count\n",
       "0          ff  10047.0\n",
       "1          fb   2147.0\n",
       "2        sxsw   1201.0\n",
       "3   blackops2   1024.0\n",
       "4         mw3   1003.0\n",
       "5  nowplaying    980.0\n",
       "6          np    909.0\n",
       "7    earthday    880.0\n",
       "8        fail    855.0\n",
       "9         ows    817.0"
      ]
     },
     "execution_count": 233,
     "metadata": {},
     "output_type": "execute_result"
    }
   ],
   "source": [
    "df_final = pd.DataFrame(df_final.groupby(by='hashtag')['count'].sum()).reset_index()\n",
    "df_final = df_final[df_final['count'] >= 100]\n",
    "df_final = df_final[df_final['hashtag'].apply(lambda x: x.isnumeric() == False)]\n",
    "df_final.sort_values(by='count', ascending=False, inplace=True)\n",
    "df_final.reset_index(drop=True, inplace=True)\n",
    "df_final.head(10)"
   ]
  },
  {
   "cell_type": "code",
   "execution_count": 232,
   "metadata": {},
   "outputs": [],
   "source": [
    "df_final.to_csv('dataset/top_hashtag.csv', index=False)"
   ]
  },
  {
   "cell_type": "code",
   "execution_count": null,
   "metadata": {},
   "outputs": [],
   "source": []
  }
 ],
 "metadata": {
  "kernelspec": {
   "display_name": "Python 3",
   "language": "python",
   "name": "python3"
  },
  "language_info": {
   "codemirror_mode": {
    "name": "ipython",
    "version": 3
   },
   "file_extension": ".py",
   "mimetype": "text/x-python",
   "name": "python",
   "nbconvert_exporter": "python",
   "pygments_lexer": "ipython3",
   "version": "3.6.8"
  }
 },
 "nbformat": 4,
 "nbformat_minor": 2
}
